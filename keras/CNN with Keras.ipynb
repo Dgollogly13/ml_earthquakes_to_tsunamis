{
 "cells": [
  {
   "cell_type": "markdown",
   "metadata": {},
   "source": [
    "#### Rename Image Files for Simple Manipulation"
   ]
  },
  {
   "cell_type": "code",
   "execution_count": 39,
   "metadata": {},
   "outputs": [],
   "source": [
    "# import os \n",
    "  \n",
    "\n",
    "# def main(): \n",
    "#     i = 0\n",
    "      \n",
    "#     for filename in os.listdir(r\"C:\\Users\\17203\\Desktop\\CNN\\data\\train\\drawings/\"): \n",
    "#         dst =\"drawing\" + str(i) + \".jpg\"\n",
    "#         src =(r'C:\\Users\\17203\\Desktop\\CNN\\data\\train\\drawings/') + filename \n",
    "#         dst =(r'C:\\Users\\17203\\Desktop\\CNN\\data\\train\\drawings/') + dst \n",
    "          \n",
    "\n",
    "#         os.rename(src, dst) \n",
    "#         i += 1\n",
    "  \n",
    "# if __name__ == '__main__': \n",
    "      \n",
    "#     main() \n"
   ]
  },
  {
   "cell_type": "markdown",
   "metadata": {},
   "source": [
    "#### Import Keras Preprocessing and Create DataGen Variable"
   ]
  },
  {
   "cell_type": "code",
   "execution_count": 54,
   "metadata": {},
   "outputs": [],
   "source": [
    "from keras.preprocessing.image import ImageDataGenerator, array_to_img, img_to_array, load_img\n",
    "from keras.models import Sequential\n",
    "from keras.layers import Conv2D, MaxPooling2D\n",
    "from keras.layers import Activation, Dropout, Flatten, Dense\n",
    "from keras import backend as K"
   ]
  },
  {
   "cell_type": "code",
   "execution_count": 76,
   "metadata": {},
   "outputs": [],
   "source": [
    "img_width, img_height = 150, 150"
   ]
  },
  {
   "cell_type": "code",
   "execution_count": 81,
   "metadata": {},
   "outputs": [],
   "source": [
    "if K.image_data_format() == 'channels_last':\n",
    "    input_shape = (3, img_width, img_height)\n",
    "else:\n",
    "    input_shape = (img_width, img_height, 3)"
   ]
  },
  {
   "cell_type": "code",
   "execution_count": 82,
   "metadata": {},
   "outputs": [],
   "source": [
    "train_data_dir = 'data/train/drawings'\n",
    "validation_data_dir = 'data/validation/drawings'\n",
    "train_samples = 1000\n",
    "validation_samples = 600\n",
    "epochs = 50\n",
    "batch_size = 16"
   ]
  },
  {
   "cell_type": "code",
   "execution_count": 86,
   "metadata": {},
   "outputs": [],
   "source": [
    "datagen = ImageDataGenerator (\n",
    "    rotation_range = 80,\n",
    "    width_shift_range = 0.2,\n",
    "    height_shift_range = 0.2,\n",
    "    rescale = 1./255,\n",
    "    shear_range=0.2,\n",
    "    zoom_range=0.2,\n",
    "    horizontal_flip=True,\n",
    "    fill_mode = 'nearest')"
   ]
  },
  {
   "cell_type": "markdown",
   "metadata": {},
   "source": [
    "#### Preview First Image and load into Preview Folder"
   ]
  },
  {
   "cell_type": "code",
   "execution_count": 90,
   "metadata": {},
   "outputs": [
    {
     "name": "stdout",
     "output_type": "stream",
     "text": [
      "(1, 475, 644, 3)\n"
     ]
    }
   ],
   "source": [
    "img = load_img('data/train/drawings/drawing0.jpg')\n",
    "x= img_to_array(img)\n",
    "x = x.reshape((1,) + x.shape)\n",
    "\n",
    "i = 0\n",
    "for batch in datagen.flow(x, batch_size=2,\n",
    "                            save_to_dir='data/train/drawings/preview', save_format='jpeg'):\n",
    "    i +=1\n",
    "    if i > 50:\n",
    "        break\n",
    "print(x.shape)"
   ]
  },
  {
   "cell_type": "code",
   "execution_count": 91,
   "metadata": {},
   "outputs": [],
   "source": [
    "model = Sequential()\n",
    "\n",
    "model.add(Conv2D(32, (3, 3), input_shape=(150, 150, 3)))\n",
    "model.add(Activation('relu'))\n",
    "model.add(MaxPooling2D(pool_size=(2, 2)))\n",
    "\n",
    "model.add(Conv2D(32, (3, 3)))\n",
    "model.add(Activation('relu'))\n",
    "model.add(MaxPooling2D(pool_size=(2, 2)))\n",
    "\n",
    "model.add(Conv2D(64, (3, 3)))\n",
    "model.add(Activation('relu'))\n",
    "model.add(MaxPooling2D(pool_size=(2, 2)))\n",
    "\n",
    "model.add(Flatten())  # this converts our 3D feature maps to 1D feature vectors\n",
    "model.add(Dense(64))\n",
    "model.add(Activation('relu'))\n",
    "model.add(Dropout(0.5))\n",
    "model.add(Dense(1))\n",
    "model.add(Activation('sigmoid'))\n",
    "\n",
    "model.compile(loss='binary_crossentropy',\n",
    "              optimizer='rmsprop',\n",
    "              metrics=['accuracy'])"
   ]
  },
  {
   "cell_type": "code",
   "execution_count": 93,
   "metadata": {},
   "outputs": [
    {
     "name": "stdout",
     "output_type": "stream",
     "text": [
      "Found 51 images belonging to 1 classes.\n",
      "Found 0 images belonging to 0 classes.\n",
      "Epoch 1/50\n",
      "50/50 [==============================] - 9s 171ms/step - loss: 1.0000e-07 - acc: 1.0000\n",
      "Epoch 2/50\n",
      "50/50 [==============================] - 8s 165ms/step - loss: 1.0000e-07 - acc: 1.0000\n",
      "Epoch 3/50\n",
      "50/50 [==============================] - 8s 169ms/step - loss: 1.0000e-07 - acc: 1.0000\n",
      "Epoch 4/50\n",
      "50/50 [==============================] - 8s 166ms/step - loss: 1.0000e-07 - acc: 1.0000\n",
      "Epoch 5/50\n",
      "50/50 [==============================] - 8s 167ms/step - loss: 1.0000e-07 - acc: 1.0000\n",
      "Epoch 6/50\n",
      "50/50 [==============================] - 8s 165ms/step - loss: 1.0000e-07 - acc: 1.0000\n",
      "Epoch 7/50\n",
      "50/50 [==============================] - 8s 168ms/step - loss: 1.0000e-07 - acc: 1.0000\n",
      "Epoch 8/50\n",
      "50/50 [==============================] - 8s 166ms/step - loss: 1.0000e-07 - acc: 1.0000\n",
      "Epoch 9/50\n",
      "50/50 [==============================] - 8s 168ms/step - loss: 1.0000e-07 - acc: 1.0000\n",
      "Epoch 10/50\n",
      "50/50 [==============================] - 8s 166ms/step - loss: 1.0000e-07 - acc: 1.0000\n",
      "Epoch 11/50\n",
      "50/50 [==============================] - 8s 166ms/step - loss: 1.0000e-07 - acc: 1.0000\n",
      "Epoch 12/50\n",
      "50/50 [==============================] - 8s 165ms/step - loss: 1.0000e-07 - acc: 1.0000\n",
      "Epoch 13/50\n",
      "50/50 [==============================] - 8s 168ms/step - loss: 1.0000e-07 - acc: 1.0000\n",
      "Epoch 14/50\n",
      "50/50 [==============================] - 8s 169ms/step - loss: 1.0000e-07 - acc: 1.0000\n",
      "Epoch 15/50\n",
      "50/50 [==============================] - 8s 169ms/step - loss: 1.0000e-07 - acc: 1.0000\n",
      "Epoch 16/50\n",
      "50/50 [==============================] - 8s 166ms/step - loss: 1.0000e-07 - acc: 1.0000\n",
      "Epoch 17/50\n",
      "50/50 [==============================] - 8s 167ms/step - loss: 1.0000e-07 - acc: 1.0000\n",
      "Epoch 18/50\n",
      "50/50 [==============================] - 8s 165ms/step - loss: 1.0044e-07 - acc: 1.0000\n",
      "Epoch 19/50\n",
      "50/50 [==============================] - 8s 169ms/step - loss: 1.0000e-07 - acc: 1.0000\n",
      "Epoch 20/50\n",
      "50/50 [==============================] - 8s 166ms/step - loss: 1.0000e-07 - acc: 1.0000\n",
      "Epoch 21/50\n",
      "50/50 [==============================] - 9s 172ms/step - loss: 1.0000e-07 - acc: 1.0000\n",
      "Epoch 22/50\n",
      "50/50 [==============================] - 8s 166ms/step - loss: 1.0010e-07 - acc: 1.0000\n",
      "Epoch 23/50\n",
      "50/50 [==============================] - 8s 169ms/step - loss: 1.0000e-07 - acc: 1.0000\n",
      "Epoch 24/50\n",
      "50/50 [==============================] - 8s 165ms/step - loss: 1.0000e-07 - acc: 1.0000\n",
      "Epoch 25/50\n",
      "50/50 [==============================] - 8s 169ms/step - loss: 1.0000e-07 - acc: 1.0000\n",
      "Epoch 26/50\n",
      "50/50 [==============================] - 8s 164ms/step - loss: 1.0000e-07 - acc: 1.0000\n",
      "Epoch 27/50\n",
      "50/50 [==============================] - 9s 171ms/step - loss: 1.0000e-07 - acc: 1.0000\n",
      "Epoch 28/50\n",
      "50/50 [==============================] - 8s 166ms/step - loss: 1.0000e-07 - acc: 1.0000\n",
      "Epoch 29/50\n",
      "50/50 [==============================] - 8s 168ms/step - loss: 1.0000e-07 - acc: 1.0000\n",
      "Epoch 30/50\n",
      "50/50 [==============================] - 8s 166ms/step - loss: 1.0000e-07 - acc: 1.0000\n",
      "Epoch 31/50\n",
      "50/50 [==============================] - 8s 167ms/step - loss: 1.0000e-07 - acc: 1.0000\n",
      "Epoch 32/50\n",
      "50/50 [==============================] - 8s 167ms/step - loss: 1.0000e-07 - acc: 1.0000\n",
      "Epoch 33/50\n",
      "50/50 [==============================] - 8s 168ms/step - loss: 1.0000e-07 - acc: 1.0000\n",
      "Epoch 34/50\n",
      "50/50 [==============================] - 8s 164ms/step - loss: 1.0000e-07 - acc: 1.0000\n",
      "Epoch 35/50\n",
      "50/50 [==============================] - 9s 170ms/step - loss: 1.0000e-07 - acc: 1.0000\n",
      "Epoch 36/50\n",
      "50/50 [==============================] - 9s 172ms/step - loss: 1.0000e-07 - acc: 1.0000\n",
      "Epoch 37/50\n",
      "50/50 [==============================] - 9s 171ms/step - loss: 1.0000e-07 - acc: 1.0000\n",
      "Epoch 38/50\n",
      "50/50 [==============================] - 9s 170ms/step - loss: 1.0000e-07 - acc: 1.0000\n",
      "Epoch 39/50\n",
      "50/50 [==============================] - 8s 168ms/step - loss: 1.0000e-07 - acc: 1.0000\n",
      "Epoch 40/50\n",
      "50/50 [==============================] - 8s 164ms/step - loss: 1.0000e-07 - acc: 1.0000\n",
      "Epoch 41/50\n",
      "50/50 [==============================] - 8s 169ms/step - loss: 1.0000e-07 - acc: 1.0000\n",
      "Epoch 42/50\n",
      "50/50 [==============================] - 8s 168ms/step - loss: 1.0000e-07 - acc: 1.0000\n",
      "Epoch 43/50\n",
      "50/50 [==============================] - 9s 171ms/step - loss: 1.0000e-07 - acc: 1.0000\n",
      "Epoch 44/50\n",
      "50/50 [==============================] - 9s 174ms/step - loss: 1.0000e-07 - acc: 1.0000\n",
      "Epoch 45/50\n",
      "50/50 [==============================] - 9s 175ms/step - loss: 1.0000e-07 - acc: 1.0000\n",
      "Epoch 46/50\n",
      "50/50 [==============================] - 8s 165ms/step - loss: 1.0000e-07 - acc: 1.0000\n",
      "Epoch 47/50\n",
      "50/50 [==============================] - 9s 173ms/step - loss: 1.0000e-07 - acc: 1.0000\n",
      "Epoch 48/50\n",
      "50/50 [==============================] - 9s 182ms/step - loss: 1.0000e-07 - acc: 1.0000\n",
      "Epoch 49/50\n",
      "50/50 [==============================] - 9s 179ms/step - loss: 1.0000e-07 - acc: 1.0000\n",
      "Epoch 50/50\n",
      "50/50 [==============================] - 8s 167ms/step - loss: 1.0000e-07 - acc: 1.0000\n"
     ]
    }
   ],
   "source": [
    "train_datagen = ImageDataGenerator(\n",
    "        rescale=1./255,\n",
    "        shear_range=0.2,\n",
    "        zoom_range=0.2,\n",
    "        horizontal_flip=True)\n",
    "\n",
    "test_datagen = ImageDataGenerator(rescale=1. / 255)\n",
    "\n",
    "train_generator = train_datagen.flow_from_directory(\n",
    "        train_data_dir,  # this is the target directory\n",
    "        target_size=(img_width, img_height),  # all images will be resized to 150x150\n",
    "        batch_size=batch_size,\n",
    "        class_mode='binary')  # since we use binary_crossentropy loss, we need binary labels\n",
    "\n",
    "# this is a similar generator, for validation data\n",
    "validation_generator = test_datagen.flow_from_directory(\n",
    "        validation_data_dir,\n",
    "        target_size=(img_width, img_height),\n",
    "        batch_size=batch_size,\n",
    "        class_mode='binary')\n",
    "\n",
    "model.fit_generator(\n",
    "        train_generator,\n",
    "        steps_per_epoch=train_samples // batch_size,\n",
    "        epochs=epochs,\n",
    "        validation_data=validation_generator,\n",
    "        validation_steps=validation_samples // batch_size)\n",
    "model.save_weights('drawings.h5')  # always save your weights after training or during training"
   ]
  },
  {
   "cell_type": "code",
   "execution_count": null,
   "metadata": {},
   "outputs": [],
   "source": []
  }
 ],
 "metadata": {
  "kernelspec": {
   "display_name": "Python 3",
   "language": "python",
   "name": "python3"
  },
  "language_info": {
   "codemirror_mode": {
    "name": "ipython",
    "version": 3
   },
   "file_extension": ".py",
   "mimetype": "text/x-python",
   "name": "python",
   "nbconvert_exporter": "python",
   "pygments_lexer": "ipython3",
   "version": "3.7.6"
  }
 },
 "nbformat": 4,
 "nbformat_minor": 4
}
