{
 "cells": [
  {
   "cell_type": "markdown",
   "metadata": {},
   "source": [
    "#### Import Dependencies"
   ]
  },
  {
   "cell_type": "code",
   "execution_count": 1,
   "metadata": {},
   "outputs": [],
   "source": [
    "import os\n",
    "import matplotlib.pyplot as plt\n",
    "import matplotlib.image as mpimg"
   ]
  },
  {
   "cell_type": "code",
   "execution_count": 2,
   "metadata": {},
   "outputs": [],
   "source": [
    "from PIL import ImageFile\n",
    "ImageFile.LOAD_TRUNCATED_IMAGES = True"
   ]
  },
  {
   "cell_type": "markdown",
   "metadata": {},
   "source": [
    "#### Set Path Directories"
   ]
  },
  {
   "cell_type": "code",
   "execution_count": 71,
   "metadata": {},
   "outputs": [],
   "source": [
    "drawings_dir = os.path.join(r'C:\\Users\\17203\\Desktop\\CNN\\data\\train\\drawings')\n",
    "engravings_dir = os.path.join(r'C:\\Users\\17203\\Desktop\\CNN\\data\\train\\engraving')\n",
    "iconography_dir = os.path.join(r'C:\\Users\\17203\\Desktop\\CNN\\data\\train\\iconography')\n",
    "painting_dir = os.path.join(r'C:\\Users\\17203\\Desktop\\CNN\\data\\train\\painting')\n",
    "sculpture_dir = os.path.join(r'C:\\Users\\17203\\Desktop\\CNN\\data\\train\\sculpture')"
   ]
  },
  {
   "cell_type": "markdown",
   "metadata": {},
   "source": [
    "#### Check Total Number of Images in Each Directory"
   ]
  },
  {
   "cell_type": "code",
   "execution_count": 72,
   "metadata": {},
   "outputs": [
    {
     "name": "stdout",
     "output_type": "stream",
     "text": [
      "total drawing images: 1107\n",
      "total engraving images: 757\n",
      "total iconography images: 2077\n",
      "total painting images: 2042\n",
      "total sculpture images: 1738\n"
     ]
    }
   ],
   "source": [
    "print('total drawing images:', len(os.listdir(drawings_dir)))\n",
    "print('total engraving images:', len(os.listdir(engravings_dir)))\n",
    "print('total iconography images:', len(os.listdir(iconography_dir)))\n",
    "print('total painting images:', len(os.listdir(painting_dir)))\n",
    "print('total sculpture images:', len(os.listdir(sculpture_dir)))"
   ]
  },
  {
   "cell_type": "markdown",
   "metadata": {},
   "source": [
    "#### Set the Batch Size for Image Processing"
   ]
  },
  {
   "cell_type": "code",
   "execution_count": 73,
   "metadata": {},
   "outputs": [],
   "source": [
    "batch_size = 128"
   ]
  },
  {
   "cell_type": "code",
   "execution_count": 3,
   "metadata": {},
   "outputs": [],
   "source": [
    "from tensorflow.keras.preprocessing.image import ImageDataGenerator"
   ]
  },
  {
   "cell_type": "markdown",
   "metadata": {},
   "source": [
    "#### Set the Classes and Use Flow_From_Directory to parse through all folders in primary data folder"
   ]
  },
  {
   "cell_type": "code",
   "execution_count": 86,
   "metadata": {},
   "outputs": [
    {
     "name": "stdout",
     "output_type": "stream",
     "text": [
      "Found 7721 images belonging to 5 classes.\n"
     ]
    }
   ],
   "source": [
    "train_datagen = ImageDataGenerator(rescale=1/255)\n",
    "\n",
    "train_generator = train_datagen.flow_from_directory(\n",
    "        r'C:\\Users\\17203\\Desktop\\CNN\\data\\train', \n",
    "        target_size=(200, 200), \n",
    "        batch_size=batch_size,\n",
    "        classes = ['drawings','engraving','iconography','painting','sculpture'],\n",
    "        class_mode='categorical')"
   ]
  },
  {
   "cell_type": "code",
   "execution_count": 5,
   "metadata": {},
   "outputs": [],
   "source": [
    "import tensorflow as tf"
   ]
  },
  {
   "cell_type": "markdown",
   "metadata": {},
   "source": [
    "#### Build Sequential model with Four Convolution Layers"
   ]
  },
  {
   "cell_type": "code",
   "execution_count": 77,
   "metadata": {},
   "outputs": [],
   "source": [
    "model = tf.keras.models.Sequential([\n",
    "\n",
    "    tf.keras.layers.Conv2D(16, (3,3), activation='relu', input_shape=(200, 200, 3)),\n",
    "    tf.keras.layers.MaxPooling2D(2, 2),\n",
    "\n",
    "    tf.keras.layers.Conv2D(32, (3,3), activation='relu'),\n",
    "    tf.keras.layers.MaxPooling2D(2,2),\n",
    "\n",
    "    tf.keras.layers.Conv2D(64, (3,3), activation='relu'),\n",
    "    tf.keras.layers.MaxPooling2D(2,2),\n",
    "\n",
    "    tf.keras.layers.Conv2D(64, (3,3), activation='relu'),\n",
    "    tf.keras.layers.MaxPooling2D(2,2),\n",
    "\n",
    "    tf.keras.layers.Conv2D(64, (3,3), activation='relu'),\n",
    "    tf.keras.layers.MaxPooling2D(2,2),\n",
    "\n",
    "    tf.keras.layers.Flatten(),\n",
    "\n",
    "    tf.keras.layers.Dense(128, activation='relu'),\n",
    "\n",
    "    tf.keras.layers.Dense(5, activation='softmax')\n",
    "])"
   ]
  },
  {
   "cell_type": "code",
   "execution_count": 78,
   "metadata": {},
   "outputs": [
    {
     "name": "stdout",
     "output_type": "stream",
     "text": [
      "Model: \"sequential_4\"\n",
      "_________________________________________________________________\n",
      "Layer (type)                 Output Shape              Param #   \n",
      "=================================================================\n",
      "conv2d_20 (Conv2D)           (None, 198, 198, 16)      448       \n",
      "_________________________________________________________________\n",
      "max_pooling2d_20 (MaxPooling (None, 99, 99, 16)        0         \n",
      "_________________________________________________________________\n",
      "conv2d_21 (Conv2D)           (None, 97, 97, 32)        4640      \n",
      "_________________________________________________________________\n",
      "max_pooling2d_21 (MaxPooling (None, 48, 48, 32)        0         \n",
      "_________________________________________________________________\n",
      "conv2d_22 (Conv2D)           (None, 46, 46, 64)        18496     \n",
      "_________________________________________________________________\n",
      "max_pooling2d_22 (MaxPooling (None, 23, 23, 64)        0         \n",
      "_________________________________________________________________\n",
      "conv2d_23 (Conv2D)           (None, 21, 21, 64)        36928     \n",
      "_________________________________________________________________\n",
      "max_pooling2d_23 (MaxPooling (None, 10, 10, 64)        0         \n",
      "_________________________________________________________________\n",
      "conv2d_24 (Conv2D)           (None, 8, 8, 64)          36928     \n",
      "_________________________________________________________________\n",
      "max_pooling2d_24 (MaxPooling (None, 4, 4, 64)          0         \n",
      "_________________________________________________________________\n",
      "flatten_4 (Flatten)          (None, 1024)              0         \n",
      "_________________________________________________________________\n",
      "dense_8 (Dense)              (None, 128)               131200    \n",
      "_________________________________________________________________\n",
      "dense_9 (Dense)              (None, 5)                 645       \n",
      "=================================================================\n",
      "Total params: 229,285\n",
      "Trainable params: 229,285\n",
      "Non-trainable params: 0\n",
      "_________________________________________________________________\n"
     ]
    }
   ],
   "source": [
    "model.summary()"
   ]
  },
  {
   "cell_type": "code",
   "execution_count": 79,
   "metadata": {},
   "outputs": [],
   "source": [
    "from tensorflow.keras.optimizers import RMSprop"
   ]
  },
  {
   "cell_type": "markdown",
   "metadata": {},
   "source": [
    "#### Use RMSprop optimizer which is recommended for recurrent neural networks"
   ]
  },
  {
   "cell_type": "code",
   "execution_count": 80,
   "metadata": {},
   "outputs": [],
   "source": [
    "model.compile(loss='categorical_crossentropy',\n",
    "             optimizer=RMSprop(lr=0.001),\n",
    "             metrics=['acc'])"
   ]
  },
  {
   "cell_type": "code",
   "execution_count": 81,
   "metadata": {},
   "outputs": [],
   "source": [
    "total_sample=train_generator.n"
   ]
  },
  {
   "cell_type": "markdown",
   "metadata": {},
   "source": [
    "#### Set the Number of Epochs"
   ]
  },
  {
   "cell_type": "code",
   "execution_count": 82,
   "metadata": {},
   "outputs": [],
   "source": [
    "n_epochs = 30"
   ]
  },
  {
   "cell_type": "code",
   "execution_count": 83,
   "metadata": {},
   "outputs": [
    {
     "name": "stdout",
     "output_type": "stream",
     "text": [
      "Epoch 1/30\n",
      "45/60 [=====================>........] - ETA: 46s - loss: 1.3490 - acc: 0.4313"
     ]
    },
    {
     "name": "stderr",
     "output_type": "stream",
     "text": [
      "C:\\Users\\17203\\Anaconda3\\envs\\DVG\\lib\\site-packages\\PIL\\Image.py:932: UserWarning: Palette images with Transparency expressed in bytes should be converted to RGBA images\n",
      "  \"Palette images with Transparency expressed in bytes should be \"\n"
     ]
    },
    {
     "name": "stdout",
     "output_type": "stream",
     "text": [
      "60/60 [==============================] - 183s 3s/step - loss: 1.2871 - acc: 0.4664\n",
      "Epoch 2/30\n",
      "60/60 [==============================] - 185s 3s/step - loss: 0.9462 - acc: 0.6231\n",
      "Epoch 3/30\n",
      "60/60 [==============================] - 185s 3s/step - loss: 0.8178 - acc: 0.6954\n",
      "Epoch 4/30\n",
      "60/60 [==============================] - 187s 3s/step - loss: 0.7413 - acc: 0.7237\n",
      "Epoch 5/30\n",
      "60/60 [==============================] - 182s 3s/step - loss: 0.6734 - acc: 0.7545\n",
      "Epoch 6/30\n",
      "60/60 [==============================] - 184s 3s/step - loss: 0.6166 - acc: 0.7724\n",
      "Epoch 7/30\n",
      "60/60 [==============================] - 177s 3s/step - loss: 0.5750 - acc: 0.7909\n",
      "Epoch 8/30\n",
      "60/60 [==============================] - 172s 3s/step - loss: 0.5534 - acc: 0.7960\n",
      "Epoch 9/30\n",
      "60/60 [==============================] - 167s 3s/step - loss: 0.4992 - acc: 0.8183\n",
      "Epoch 10/30\n",
      "60/60 [==============================] - 159s 3s/step - loss: 0.4581 - acc: 0.8266\n",
      "Epoch 11/30\n",
      "60/60 [==============================] - 179s 3s/step - loss: 0.4369 - acc: 0.8348\n",
      "Epoch 12/30\n",
      "60/60 [==============================] - 182s 3s/step - loss: 0.3879 - acc: 0.8543\n",
      "Epoch 13/30\n",
      "60/60 [==============================] - 183s 3s/step - loss: 0.3713 - acc: 0.8596\n",
      "Epoch 14/30\n",
      "60/60 [==============================] - 164s 3s/step - loss: 0.3533 - acc: 0.8678\n",
      "Epoch 15/30\n",
      "60/60 [==============================] - 182s 3s/step - loss: 0.3198 - acc: 0.8802\n",
      "Epoch 16/30\n",
      "60/60 [==============================] - 180s 3s/step - loss: 0.3028 - acc: 0.8912\n",
      "Epoch 17/30\n",
      "60/60 [==============================] - 172s 3s/step - loss: 0.2663 - acc: 0.8983\n",
      "Epoch 18/30\n",
      "60/60 [==============================] - 182s 3s/step - loss: 0.2345 - acc: 0.9082\n",
      "Epoch 19/30\n",
      "60/60 [==============================] - 182s 3s/step - loss: 0.2302 - acc: 0.9112\n",
      "Epoch 20/30\n",
      "60/60 [==============================] - 176s 3s/step - loss: 0.1950 - acc: 0.9291\n",
      "Epoch 21/30\n",
      "60/60 [==============================] - 181s 3s/step - loss: 0.2039 - acc: 0.9259\n",
      "Epoch 22/30\n",
      "60/60 [==============================] - 174s 3s/step - loss: 0.1718 - acc: 0.9365\n",
      "Epoch 23/30\n",
      "60/60 [==============================] - 173s 3s/step - loss: 0.1336 - acc: 0.9532\n",
      "Epoch 24/30\n",
      "60/60 [==============================] - 181s 3s/step - loss: 0.1593 - acc: 0.9455\n",
      "Epoch 25/30\n",
      "60/60 [==============================] - 169s 3s/step - loss: 0.1132 - acc: 0.9605\n",
      "Epoch 26/30\n",
      "60/60 [==============================] - 156s 3s/step - loss: 0.1325 - acc: 0.9627\n",
      "Epoch 27/30\n",
      "60/60 [==============================] - 181s 3s/step - loss: 0.1239 - acc: 0.9688\n",
      "Epoch 28/30\n",
      "60/60 [==============================] - 178s 3s/step - loss: 0.0746 - acc: 0.9751\n",
      "Epoch 29/30\n",
      "60/60 [==============================] - 177s 3s/step - loss: 0.0923 - acc: 0.9706\n",
      "Epoch 30/30\n",
      "60/60 [==============================] - 182s 3s/step - loss: 0.1089 - acc: 0.9683\n"
     ]
    }
   ],
   "source": [
    "history = model.fit_generator(\n",
    "    train_generator,\n",
    "    steps_per_epoch=int(total_sample/batch_size),\n",
    "    epochs=n_epochs,\n",
    "    verbose=1)"
   ]
  },
  {
   "cell_type": "code",
   "execution_count": 87,
   "metadata": {},
   "outputs": [
    {
     "data": {
      "image/png": "[encoded data removed]",
      "text/plain": [
       "<Figure size 504x288 with 1 Axes>"
      ]
     },
     "metadata": {
      "needs_background": "light"
     },
     "output_type": "display_data"
    }
   ],
   "source": [
    "plt.figure(figsize=(7,4))\n",
    "plt.plot([i+1 for i in range(n_epochs)],history.history['acc'],'-o',c='k',lw=2,markersize=7)\n",
    "plt.grid(True)\n",
    "plt.title(\"Training accuracy with epochs\\n\",fontsize=18)\n",
    "plt.xlabel(\"Training epochs\",fontsize=15)\n",
    "plt.ylabel(\"Training accuracy\",fontsize=15)\n",
    "plt.xticks(fontsize=15)\n",
    "plt.yticks(fontsize=15)\n",
    "plt.show()"
   ]
  },
  {
   "cell_type": "code",
   "execution_count": 88,
   "metadata": {},
   "outputs": [
    {
     "data": {
      "image/png": "[encoded data removed]",
      "text/plain": [
       "<Figure size 504x288 with 1 Axes>"
      ]
     },
     "metadata": {
      "needs_background": "light"
     },
     "output_type": "display_data"
    }
   ],
   "source": [
    "plt.figure(figsize=(7,4))\n",
    "plt.plot([i+1 for i in range(n_epochs)],history.history['loss'],'-o',c='k',lw=2,markersize=7)\n",
    "plt.grid(True)\n",
    "plt.title(\"Training loss with epochs\\n\",fontsize=18)\n",
    "plt.xlabel(\"Training epochs\",fontsize=15)\n",
    "plt.ylabel(\"Training loss\",fontsize=15)\n",
    "plt.xticks(fontsize=15)\n",
    "plt.yticks(fontsize=15)\n",
    "plt.show()"
   ]
  },
  {
   "cell_type": "markdown",
   "metadata": {},
   "source": [
    "#### Function to Test on Various Training Sets"
   ]
  },
  {
   "cell_type": "code",
   "execution_count": 4,
   "metadata": {},
   "outputs": [],
   "source": [
    "nouveau_dir = os.path.join(r'C:\\Users\\17203\\Desktop\\art-snobs-data3\\trainset\\Art Nouveau (Modern)')\n",
    "baroque_dir = os.path.join(r'C:\\Users\\17203\\Desktop\\art-snobs-data3\\trainset\\Baroque')\n",
    "expressionsim_dir = os.path.join(r'C:\\Users\\17203\\Desktop\\art-snobs-data3\\trainset\\Expressionism')\n",
    "impressionsim_dir = os.path.join(r'C:\\Users\\17203\\Desktop\\art-snobs-data3\\trainset\\Impressionism')\n",
    "post_impressionism_dir = os.path.join(r'C:\\Users\\17203\\Desktop\\art-snobs-data3\\trainset\\Post-Impressionism')\n",
    "realism_dir = os.path.join(r'C:\\Users\\17203\\Desktop\\art-snobs-data3\\trainset\\Realism')\n",
    "romanticism_dir = os.path.join(r'C:\\Users\\17203\\Desktop\\art-snobs-data3\\trainset\\Romanticism')\n",
    "surrealism_dir = os.path.join(r'C:\\Users\\17203\\Desktop\\art-snobs-data3\\trainset\\Surrealism')\n",
    "symbolism_dir = os.path.join(r'C:\\Users\\17203\\Desktop\\art-snobs-data3\\trainset\\Symbolism')"
   ]
  },
  {
   "cell_type": "code",
   "execution_count": 5,
   "metadata": {},
   "outputs": [
    {
     "name": "stdout",
     "output_type": "stream",
     "text": [
      "total nouveau images: 2358\n",
      "total baroque images: 2362\n",
      "total expressionsim images: 2360\n",
      "total impressionsim images: 2358\n",
      "total post_impressionism images: 2362\n",
      "total realism images: 2362\n",
      "total romanticism images: 2358\n",
      "total surrealism images: 2364\n",
      "total symbolism images: 2363\n"
     ]
    }
   ],
   "source": [
    "print('total nouveau images:', len(os.listdir(nouveau_dir)))\n",
    "print('total baroque images:', len(os.listdir(baroque_dir)))\n",
    "print('total expressionsim images:', len(os.listdir(expressionsim_dir)))\n",
    "print('total impressionsim images:', len(os.listdir(impressionsim_dir)))\n",
    "print('total post_impressionism images:', len(os.listdir(post_impressionism_dir)))\n",
    "print('total realism images:', len(os.listdir(realism_dir)))\n",
    "print('total romanticism images:', len(os.listdir(romanticism_dir)))\n",
    "print('total surrealism images:', len(os.listdir(surrealism_dir)))\n",
    "print('total symbolism images:', len(os.listdir(symbolism_dir)))"
   ]
  },
  {
   "cell_type": "code",
   "execution_count": 6,
   "metadata": {},
   "outputs": [],
   "source": [
    "def train_CNN(train_directory,target_size=(200,200), classes=None,\n",
    "              batch_size=128,num_epochs=20,num_classes=9,verbose=0):\n",
    "\n",
    "    from tensorflow.keras.preprocessing.image import ImageDataGenerator\n",
    "    import tensorflow as tf\n",
    "    from tensorflow.keras.optimizers import RMSprop\n",
    "    \n",
    "    train_datagen = ImageDataGenerator(rescale=1/255)\n",
    "\n",
    "    train_generator = train_datagen.flow_from_directory(\n",
    "            train_directory,  \n",
    "            target_size=target_size,  \n",
    "            batch_size=batch_size,\n",
    "            classes = classes,\n",
    "            class_mode='categorical')\n",
    "    \n",
    "    input_shape = tuple(list(target_size)+[3])\n",
    "    \n",
    "\n",
    "    model = tf.keras.models.Sequential([\n",
    "    \n",
    "    tf.keras.layers.Conv2D(16, (3,3), activation='relu', input_shape=input_shape),\n",
    "    tf.keras.layers.MaxPooling2D(2, 2),\n",
    "\n",
    "    tf.keras.layers.Conv2D(32, (3,3), activation='relu'),\n",
    "    tf.keras.layers.MaxPooling2D(2,2),\n",
    "\n",
    "    tf.keras.layers.Conv2D(64, (3,3), activation='relu'),\n",
    "    tf.keras.layers.MaxPooling2D(2,2),\n",
    "\n",
    "    tf.keras.layers.Conv2D(64, (3,3), activation='relu'),\n",
    "    tf.keras.layers.MaxPooling2D(2,2),\n",
    "\n",
    "    tf.keras.layers.Conv2D(64, (3,3), activation='relu'),\n",
    "    tf.keras.layers.MaxPooling2D(2,2),\n",
    "\n",
    "    tf.keras.layers.Flatten(),\n",
    "\n",
    "    tf.keras.layers.Dense(512, activation='relu'),\n",
    "\n",
    "    tf.keras.layers.Dense(num_classes, activation='softmax')\n",
    "    ])\n",
    "    \n",
    "\n",
    "    model.compile(loss='categorical_crossentropy',\n",
    "              optimizer=RMSprop(lr=0.001),\n",
    "              metrics=['acc'])\n",
    "    \n",
    "\n",
    "    total_sample=train_generator.n\n",
    "    \n",
    "\n",
    "    model.fit_generator(\n",
    "        train_generator, \n",
    "        steps_per_epoch=int(total_sample/batch_size),  \n",
    "        epochs=num_epochs,\n",
    "        verbose=verbose)\n",
    "    \n",
    "    return model"
   ]
  },
  {
   "cell_type": "code",
   "execution_count": 7,
   "metadata": {},
   "outputs": [],
   "source": [
    "train_directory = r\"C:\\Users\\17203\\Desktop\\art-snobs-data3\\trainset\""
   ]
  },
  {
   "cell_type": "code",
   "execution_count": 8,
   "metadata": {},
   "outputs": [
    {
     "name": "stdout",
     "output_type": "stream",
     "text": [
      "Found 21247 images belonging to 9 classes.\n",
      "WARNING:tensorflow:From C:\\Users\\17203\\Anaconda3\\envs\\DVG\\lib\\site-packages\\tensorflow_core\\python\\ops\\resource_variable_ops.py:1630: calling BaseResourceVariable.__init__ (from tensorflow.python.ops.resource_variable_ops) with constraint is deprecated and will be removed in a future version.\n",
      "Instructions for updating:\n",
      "If using Keras pass *_constraint arguments to layers.\n",
      "Epoch 1/30\n",
      "123/165 [=====================>........] - ETA: 3:52 - loss: 2.1650 - acc: 0.1650"
     ]
    },
    {
     "name": "stderr",
     "output_type": "stream",
     "text": [
      "C:\\Users\\17203\\Anaconda3\\envs\\DVG\\lib\\site-packages\\PIL\\Image.py:2766: DecompressionBombWarning: Image size (95799284 pixels) exceeds limit of 89478485 pixels, could be decompression bomb DOS attack.\n",
      "  DecompressionBombWarning,\n"
     ]
    },
    {
     "name": "stdout",
     "output_type": "stream",
     "text": [
      "165/165 [==============================] - 921s 6s/step - loss: 2.1440 - acc: 0.1751\n",
      "Epoch 2/30\n",
      "165/165 [==============================] - 919s 6s/step - loss: 2.0244 - acc: 0.2358\n",
      "Epoch 3/30\n",
      "165/165 [==============================] - 921s 6s/step - loss: 1.9382 - acc: 0.2754\n",
      "Epoch 4/30\n",
      "165/165 [==============================] - 922s 6s/step - loss: 1.8646 - acc: 0.3081\n",
      "Epoch 5/30\n",
      "165/165 [==============================] - 921s 6s/step - loss: 1.7973 - acc: 0.3359\n",
      "Epoch 6/30\n",
      "165/165 [==============================] - 913s 6s/step - loss: 1.7308 - acc: 0.3648\n",
      "Epoch 7/30\n",
      "165/165 [==============================] - 919s 6s/step - loss: 1.6670 - acc: 0.3909\n",
      "Epoch 8/30\n",
      "165/165 [==============================] - 917s 6s/step - loss: 1.5921 - acc: 0.4221\n",
      "Epoch 9/30\n",
      "165/165 [==============================] - 913s 6s/step - loss: 1.5117 - acc: 0.4531\n",
      "Epoch 10/30\n",
      "165/165 [==============================] - 920s 6s/step - loss: 1.4108 - acc: 0.4946\n",
      "Epoch 11/30\n",
      "165/165 [==============================] - 914s 6s/step - loss: 1.3076 - acc: 0.5342\n",
      "Epoch 12/30\n",
      "165/165 [==============================] - 919s 6s/step - loss: 1.1884 - acc: 0.5813\n",
      "Epoch 13/30\n",
      "165/165 [==============================] - 912s 6s/step - loss: 1.0531 - acc: 0.6279\n",
      "Epoch 14/30\n",
      "165/165 [==============================] - 922s 6s/step - loss: 0.9354 - acc: 0.6755\n",
      "Epoch 15/30\n",
      "165/165 [==============================] - 919s 6s/step - loss: 0.8006 - acc: 0.7215\n",
      "Epoch 16/30\n",
      "165/165 [==============================] - 914s 6s/step - loss: 0.6865 - acc: 0.7602\n",
      "Epoch 17/30\n",
      "165/165 [==============================] - 915s 6s/step - loss: 0.5844 - acc: 0.8003\n",
      "Epoch 18/30\n",
      "165/165 [==============================] - 913s 6s/step - loss: 0.4862 - acc: 0.8346\n",
      "Epoch 19/30\n",
      "165/165 [==============================] - 926s 6s/step - loss: 0.4194 - acc: 0.8582\n",
      "Epoch 20/30\n",
      "165/165 [==============================] - 920s 6s/step - loss: 0.3676 - acc: 0.8779\n",
      "Epoch 21/30\n",
      "165/165 [==============================] - 919s 6s/step - loss: 0.3005 - acc: 0.8998\n",
      "Epoch 22/30\n",
      "165/165 [==============================] - 920s 6s/step - loss: 0.2795 - acc: 0.9044\n",
      "Epoch 23/30\n",
      "165/165 [==============================] - 917s 6s/step - loss: 0.2443 - acc: 0.9203\n",
      "Epoch 24/30\n",
      "165/165 [==============================] - 919s 6s/step - loss: 0.2196 - acc: 0.9298\n",
      "Epoch 25/30\n",
      "165/165 [==============================] - 913s 6s/step - loss: 0.1931 - acc: 0.9371\n",
      "Epoch 26/30\n",
      "165/165 [==============================] - 921s 6s/step - loss: 0.1864 - acc: 0.9426\n",
      "Epoch 27/30\n",
      "165/165 [==============================] - 918s 6s/step - loss: 0.1705 - acc: 0.9461\n",
      "Epoch 28/30\n",
      "165/165 [==============================] - 920s 6s/step - loss: 0.1662 - acc: 0.9487\n",
      "Epoch 29/30\n",
      "165/165 [==============================] - 920s 6s/step - loss: 0.1497 - acc: 0.9560\n",
      "Epoch 30/30\n",
      "165/165 [==============================] - 919s 6s/step - loss: 0.1511 - acc: 0.9553\n"
     ]
    }
   ],
   "source": [
    "CNN_model = train_CNN(train_directory=train_directory,classes=['Art Nouveau (Modern)','Baroque','Expressionism','Impressionism','Post-Impressionism','Realism','Romanticism','Surrealism','Symbolism'],\n",
    "                        num_epochs=30,num_classes=9,verbose=1)"
   ]
  },
  {
   "cell_type": "code",
   "execution_count": 9,
   "metadata": {},
   "outputs": [],
   "source": [
    "CNN_model.save('CNN_model.h5')"
   ]
  },
  {
   "cell_type": "code",
   "execution_count": null,
   "metadata": {},
   "outputs": [],
   "source": []
  }
 ],
 "metadata": {
  "kernelspec": {
   "display_name": "Python 3",
   "language": "python",
   "name": "python3"
  },
  "language_info": {
   "codemirror_mode": {
    "name": "ipython",
    "version": 3
   },
   "file_extension": ".py",
   "mimetype": "text/x-python",
   "name": "python",
   "nbconvert_exporter": "python",
   "pygments_lexer": "ipython3",
   "version": "3.7.6"
  }
 },
 "nbformat": 4,
 "nbformat_minor": 4
}
