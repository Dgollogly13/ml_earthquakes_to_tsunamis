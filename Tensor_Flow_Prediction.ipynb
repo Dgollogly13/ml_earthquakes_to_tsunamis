{
 "cells": [
  {
   "cell_type": "code",
   "execution_count": 9,
   "metadata": {},
   "outputs": [],
   "source": [
    "# Import Tensor Flow\n",
    "import tensorflow as tf\n",
    "\n",
    "# from tensorflow.keras.models import Sequential\n",
    "from tensorflow.keras.models import Sequential\n",
    "from tensorflow.keras.layers import Dense, Conv2D, Flatten, Dropout, MaxPooling2D\n",
    "from tensorflow.keras.preprocessing.image import ImageDataGenerator\n",
    "from tensorflow.keras.optimizers import RMSprop\n",
    "\n",
    "# Import Dependencies\n",
    "import os\n",
    "import numpy as np\n",
    "import matplotlib.pyplot as plt\n",
    "from pathlib import Path\n",
    "import pandas as pd\n",
    "from sklearn.metrics import classification_report, confusion_matrix\n",
    "import seaborn as sns\n",
    "sns.set(style=\"darkgrid\")"
   ]
  },
  {
   "cell_type": "code",
   "execution_count": 10,
   "metadata": {},
   "outputs": [],
   "source": [
    "# Create Path Variable\n",
    "PATH = 'data/'\n",
    "\n",
    "# Join Image Data Folder to Data Path\n",
    "predict_dir = os.path.join(PATH,\"image_data\")"
   ]
  },
  {
   "cell_type": "code",
   "execution_count": 11,
   "metadata": {},
   "outputs": [],
   "source": [
    "#Create Model Parameters\n",
    "batch_size = 64\n",
    "epochs = 30\n",
    "IMG_HEIGHT = 200\n",
    "IMG_WIDTH = 200\n",
    "IMG_SHAPE=(200,200,3)"
   ]
  },
  {
   "cell_type": "code",
   "execution_count": 12,
   "metadata": {},
   "outputs": [],
   "source": [
    "# Generator for our prediction data\n",
    "predict_image_generator = ImageDataGenerator(rescale= 1/255.0) "
   ]
  },
  {
   "cell_type": "code",
   "execution_count": 13,
   "metadata": {},
   "outputs": [
    {
     "name": "stdout",
     "output_type": "stream",
     "text": [
      "Found 50 images belonging to 5 classes.\n"
     ]
    }
   ],
   "source": [
    "# Link Generator to Prediction Directory\n",
    "predict_im_gen = predict_image_generator.flow_from_directory(batch_size=batch_size,\n",
    "                                                           directory=predict_dir,\n",
    "                                                           target_size=(IMG_HEIGHT, IMG_WIDTH)\n",
    "                                                           )\n",
    "\n",
    "labels = (predict_im_gen.class_indices)"
   ]
  },
  {
   "cell_type": "code",
   "execution_count": 14,
   "metadata": {},
   "outputs": [],
   "source": [
    "# Load TensorFlow Model\n",
    "tensor_flow_model = tf.keras.models.load_model('models/tensorflow_model.h5')"
   ]
  },
  {
   "cell_type": "code",
   "execution_count": 15,
   "metadata": {},
   "outputs": [],
   "source": [
    "# Predict Tensorflow Batch\n",
    "art_fight_tensorflow = tensor_flow_model.predict_generator(predict_im_gen)"
   ]
  },
  {
   "cell_type": "code",
   "execution_count": 16,
   "metadata": {
    "scrolled": true
   },
   "outputs": [
    {
     "data": {
      "image/png": "[encoded data removed]",
      "text/plain": [
       "<Figure size 576x576 with 2 Axes>"
      ]
     },
     "metadata": {},
     "output_type": "display_data"
    }
   ],
   "source": [
    "y_true = np.array([\n",
    "[1,0,0,0,0],\n",
    "[1,0,0,0,0],\n",
    "[1,0,0,0,0],\n",
    "[1,0,0,0,0],\n",
    "[1,0,0,0,0],\n",
    "[1,0,0,0,0],\n",
    "[1,0,0,0,0],\n",
    "[1,0,0,0,0],\n",
    "[1,0,0,0,0],\n",
    "[1,0,0,0,0],\n",
    "[0,1,0,0,0],\n",
    "[0,1,0,0,0],\n",
    "[0,1,0,0,0],\n",
    "[0,1,0,0,0],\n",
    "[0,1,0,0,0],\n",
    "[0,1,0,0,0],\n",
    "[0,1,0,0,0],\n",
    "[0,1,0,0,0],\n",
    "[0,1,0,0,0],\n",
    "[0,1,0,0,0],\n",
    "[0,0,1,0,0],\n",
    "[0,0,1,0,0],\n",
    "[0,0,1,0,0],\n",
    "[0,0,1,0,0],\n",
    "[0,0,1,0,0],\n",
    "[0,0,1,0,0],\n",
    "[0,0,1,0,0],\n",
    "[0,0,1,0,0],\n",
    "[0,0,1,0,0],\n",
    "[0,0,1,0,0],\n",
    "[0,0,0,1,0],\n",
    "[0,0,0,1,0],\n",
    "[0,0,0,1,0],\n",
    "[0,0,0,1,0],\n",
    "[0,0,0,1,0],\n",
    "[0,0,0,1,0],\n",
    "[0,0,0,1,0],\n",
    "[0,0,0,1,0],\n",
    "[0,0,0,1,0],\n",
    "[0,0,0,1,0],\n",
    "[0,0,0,0,1],\n",
    "[0,0,0,0,1],\n",
    "[0,0,0,0,1],\n",
    "[0,0,0,0,1],\n",
    "[0,0,0,0,1],\n",
    "[0,0,0,0,1],\n",
    "[0,0,0,0,1],\n",
    "[0,0,0,0,1],\n",
    "[0,0,0,0,1],\n",
    "[0,0,0,0,1]\n",
    "])\n",
    "\n",
    "y_pred = (art_fight_tensorflow> .5)\n",
    "\n",
    "confusion_matrix = confusion_matrix(y_true.argmax(axis=1), y_pred.argmax(axis=1), normalize=\"true\")\n",
    "\n",
    "con_mat_df = pd.DataFrame(confusion_matrix)\n",
    "\n",
    "figure = plt.figure(figsize=(8, 8))\n",
    "sns.heatmap(con_mat_df, annot=True,cmap=plt.cm.Blues)\n",
    "plt.tight_layout()\n",
    "plt.ylabel('True label')\n",
    "plt.xlabel('Predicted label')\n",
    "plt.show()\n",
    "\n",
    "\n"
   ]
  },
  {
   "cell_type": "code",
   "execution_count": null,
   "metadata": {},
   "outputs": [],
   "source": []
  }
 ],
 "metadata": {
  "kernelspec": {
   "display_name": "Python 3",
   "language": "python",
   "name": "python3"
  },
  "language_info": {
   "codemirror_mode": {
    "name": "ipython",
    "version": 3
   },
   "file_extension": ".py",
   "mimetype": "text/x-python",
   "name": "python",
   "nbconvert_exporter": "python",
   "pygments_lexer": "ipython3",
   "version": "3.7.4"
  }
 },
 "nbformat": 4,
 "nbformat_minor": 4
}
